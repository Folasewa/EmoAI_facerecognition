{
  "cells": [
    {
      "cell_type": "markdown",
      "metadata": {
        "id": "view-in-github",
        "colab_type": "text"
      },
      "source": [
        "<a href=\"https://colab.research.google.com/github/Folasewa/EmoAI_facerecognition/blob/main/Final_EmoAI_Check.ipynb\" target=\"_parent\"><img src=\"https://colab.research.google.com/assets/colab-badge.svg\" alt=\"Open In Colab\"/></a>"
      ]
    },
    {
      "cell_type": "code",
      "execution_count": 2,
      "metadata": {
        "id": "c7PIV4OssBHP",
        "colab": {
          "base_uri": "https://localhost:8080/"
        },
        "outputId": "8b91a502-9704-4372-969c-5d3298742cb0"
      },
      "outputs": [
        {
          "output_type": "stream",
          "name": "stdout",
          "text": [
            "Mounted at /content/drive\n"
          ]
        }
      ],
      "source": [
        "from google.colab import drive\n",
        "drive.mount('/content/drive')"
      ]
    },
    {
      "cell_type": "code",
      "execution_count": 3,
      "metadata": {
        "colab": {
          "base_uri": "https://localhost:8080/"
        },
        "id": "XrP92AJhseE1",
        "outputId": "46729674-63b0-4bb9-eaf8-7db7be224d40"
      },
      "outputs": [
        {
          "output_type": "stream",
          "name": "stdout",
          "text": [
            "Collecting ultralytics==8.0.20\n",
            "  Downloading ultralytics-8.0.20-py3-none-any.whl (261 kB)\n",
            "\u001b[?25l     \u001b[90m━━━━━━━━━━━━━━━━━━━━━━━━━━━━━━━━━━━━━━━━\u001b[0m \u001b[32m0.0/261.2 kB\u001b[0m \u001b[31m?\u001b[0m eta \u001b[36m-:--:--\u001b[0m\r\u001b[2K     \u001b[91m━━━━━━━━━━━━━━━━━━━━━━━━━━━━━━━━━━━━\u001b[0m\u001b[91m╸\u001b[0m\u001b[90m━━\u001b[0m \u001b[32m245.8/261.2 kB\u001b[0m \u001b[31m7.3 MB/s\u001b[0m eta \u001b[36m0:00:01\u001b[0m\r\u001b[2K     \u001b[90m━━━━━━━━━━━━━━━━━━━━━━━━━━━━━━━━━━━━━━━\u001b[0m \u001b[32m261.2/261.2 kB\u001b[0m \u001b[31m5.4 MB/s\u001b[0m eta \u001b[36m0:00:00\u001b[0m\n",
            "\u001b[?25hRequirement already satisfied: matplotlib>=3.2.2 in /usr/local/lib/python3.10/dist-packages (from ultralytics==8.0.20) (3.7.1)\n",
            "Requirement already satisfied: numpy>=1.18.5 in /usr/local/lib/python3.10/dist-packages (from ultralytics==8.0.20) (1.22.4)\n",
            "Requirement already satisfied: opencv-python>=4.6.0 in /usr/local/lib/python3.10/dist-packages (from ultralytics==8.0.20) (4.7.0.72)\n",
            "Requirement already satisfied: Pillow>=7.1.2 in /usr/local/lib/python3.10/dist-packages (from ultralytics==8.0.20) (8.4.0)\n",
            "Requirement already satisfied: PyYAML>=5.3.1 in /usr/local/lib/python3.10/dist-packages (from ultralytics==8.0.20) (6.0)\n",
            "Requirement already satisfied: requests>=2.23.0 in /usr/local/lib/python3.10/dist-packages (from ultralytics==8.0.20) (2.27.1)\n",
            "Requirement already satisfied: scipy>=1.4.1 in /usr/local/lib/python3.10/dist-packages (from ultralytics==8.0.20) (1.10.1)\n",
            "Requirement already satisfied: torch>=1.7.0 in /usr/local/lib/python3.10/dist-packages (from ultralytics==8.0.20) (2.0.1+cu118)\n",
            "Requirement already satisfied: torchvision>=0.8.1 in /usr/local/lib/python3.10/dist-packages (from ultralytics==8.0.20) (0.15.2+cu118)\n",
            "Requirement already satisfied: tqdm>=4.64.0 in /usr/local/lib/python3.10/dist-packages (from ultralytics==8.0.20) (4.65.0)\n",
            "Requirement already satisfied: tensorboard>=2.4.1 in /usr/local/lib/python3.10/dist-packages (from ultralytics==8.0.20) (2.12.3)\n",
            "Requirement already satisfied: pandas>=1.1.4 in /usr/local/lib/python3.10/dist-packages (from ultralytics==8.0.20) (1.5.3)\n",
            "Requirement already satisfied: seaborn>=0.11.0 in /usr/local/lib/python3.10/dist-packages (from ultralytics==8.0.20) (0.12.2)\n",
            "Requirement already satisfied: ipython in /usr/local/lib/python3.10/dist-packages (from ultralytics==8.0.20) (7.34.0)\n",
            "Requirement already satisfied: psutil in /usr/local/lib/python3.10/dist-packages (from ultralytics==8.0.20) (5.9.5)\n",
            "Collecting thop>=0.1.1 (from ultralytics==8.0.20)\n",
            "  Downloading thop-0.1.1.post2209072238-py3-none-any.whl (15 kB)\n",
            "Collecting sentry-sdk (from ultralytics==8.0.20)\n",
            "  Downloading sentry_sdk-1.28.1-py2.py3-none-any.whl (214 kB)\n",
            "\u001b[2K     \u001b[90m━━━━━━━━━━━━━━━━━━━━━━━━━━━━━━━━━━━━━━\u001b[0m \u001b[32m214.7/214.7 kB\u001b[0m \u001b[31m20.9 MB/s\u001b[0m eta \u001b[36m0:00:00\u001b[0m\n",
            "\u001b[?25hRequirement already satisfied: contourpy>=1.0.1 in /usr/local/lib/python3.10/dist-packages (from matplotlib>=3.2.2->ultralytics==8.0.20) (1.1.0)\n",
            "Requirement already satisfied: cycler>=0.10 in /usr/local/lib/python3.10/dist-packages (from matplotlib>=3.2.2->ultralytics==8.0.20) (0.11.0)\n",
            "Requirement already satisfied: fonttools>=4.22.0 in /usr/local/lib/python3.10/dist-packages (from matplotlib>=3.2.2->ultralytics==8.0.20) (4.41.0)\n",
            "Requirement already satisfied: kiwisolver>=1.0.1 in /usr/local/lib/python3.10/dist-packages (from matplotlib>=3.2.2->ultralytics==8.0.20) (1.4.4)\n",
            "Requirement already satisfied: packaging>=20.0 in /usr/local/lib/python3.10/dist-packages (from matplotlib>=3.2.2->ultralytics==8.0.20) (23.1)\n",
            "Requirement already satisfied: pyparsing>=2.3.1 in /usr/local/lib/python3.10/dist-packages (from matplotlib>=3.2.2->ultralytics==8.0.20) (3.1.0)\n",
            "Requirement already satisfied: python-dateutil>=2.7 in /usr/local/lib/python3.10/dist-packages (from matplotlib>=3.2.2->ultralytics==8.0.20) (2.8.2)\n",
            "Requirement already satisfied: pytz>=2020.1 in /usr/local/lib/python3.10/dist-packages (from pandas>=1.1.4->ultralytics==8.0.20) (2022.7.1)\n",
            "Requirement already satisfied: urllib3<1.27,>=1.21.1 in /usr/local/lib/python3.10/dist-packages (from requests>=2.23.0->ultralytics==8.0.20) (1.26.16)\n",
            "Requirement already satisfied: certifi>=2017.4.17 in /usr/local/lib/python3.10/dist-packages (from requests>=2.23.0->ultralytics==8.0.20) (2023.5.7)\n",
            "Requirement already satisfied: charset-normalizer~=2.0.0 in /usr/local/lib/python3.10/dist-packages (from requests>=2.23.0->ultralytics==8.0.20) (2.0.12)\n",
            "Requirement already satisfied: idna<4,>=2.5 in /usr/local/lib/python3.10/dist-packages (from requests>=2.23.0->ultralytics==8.0.20) (3.4)\n",
            "Requirement already satisfied: absl-py>=0.4 in /usr/local/lib/python3.10/dist-packages (from tensorboard>=2.4.1->ultralytics==8.0.20) (1.4.0)\n",
            "Requirement already satisfied: grpcio>=1.48.2 in /usr/local/lib/python3.10/dist-packages (from tensorboard>=2.4.1->ultralytics==8.0.20) (1.56.0)\n",
            "Requirement already satisfied: google-auth<3,>=1.6.3 in /usr/local/lib/python3.10/dist-packages (from tensorboard>=2.4.1->ultralytics==8.0.20) (2.17.3)\n",
            "Requirement already satisfied: google-auth-oauthlib<1.1,>=0.5 in /usr/local/lib/python3.10/dist-packages (from tensorboard>=2.4.1->ultralytics==8.0.20) (1.0.0)\n",
            "Requirement already satisfied: markdown>=2.6.8 in /usr/local/lib/python3.10/dist-packages (from tensorboard>=2.4.1->ultralytics==8.0.20) (3.4.3)\n",
            "Requirement already satisfied: protobuf>=3.19.6 in /usr/local/lib/python3.10/dist-packages (from tensorboard>=2.4.1->ultralytics==8.0.20) (3.20.3)\n",
            "Requirement already satisfied: setuptools>=41.0.0 in /usr/local/lib/python3.10/dist-packages (from tensorboard>=2.4.1->ultralytics==8.0.20) (67.7.2)\n",
            "Requirement already satisfied: tensorboard-data-server<0.8.0,>=0.7.0 in /usr/local/lib/python3.10/dist-packages (from tensorboard>=2.4.1->ultralytics==8.0.20) (0.7.1)\n",
            "Requirement already satisfied: werkzeug>=1.0.1 in /usr/local/lib/python3.10/dist-packages (from tensorboard>=2.4.1->ultralytics==8.0.20) (2.3.6)\n",
            "Requirement already satisfied: wheel>=0.26 in /usr/local/lib/python3.10/dist-packages (from tensorboard>=2.4.1->ultralytics==8.0.20) (0.40.0)\n",
            "Requirement already satisfied: filelock in /usr/local/lib/python3.10/dist-packages (from torch>=1.7.0->ultralytics==8.0.20) (3.12.2)\n",
            "Requirement already satisfied: typing-extensions in /usr/local/lib/python3.10/dist-packages (from torch>=1.7.0->ultralytics==8.0.20) (4.7.1)\n",
            "Requirement already satisfied: sympy in /usr/local/lib/python3.10/dist-packages (from torch>=1.7.0->ultralytics==8.0.20) (1.11.1)\n",
            "Requirement already satisfied: networkx in /usr/local/lib/python3.10/dist-packages (from torch>=1.7.0->ultralytics==8.0.20) (3.1)\n",
            "Requirement already satisfied: jinja2 in /usr/local/lib/python3.10/dist-packages (from torch>=1.7.0->ultralytics==8.0.20) (3.1.2)\n",
            "Requirement already satisfied: triton==2.0.0 in /usr/local/lib/python3.10/dist-packages (from torch>=1.7.0->ultralytics==8.0.20) (2.0.0)\n",
            "Requirement already satisfied: cmake in /usr/local/lib/python3.10/dist-packages (from triton==2.0.0->torch>=1.7.0->ultralytics==8.0.20) (3.25.2)\n",
            "Requirement already satisfied: lit in /usr/local/lib/python3.10/dist-packages (from triton==2.0.0->torch>=1.7.0->ultralytics==8.0.20) (16.0.6)\n",
            "Collecting jedi>=0.16 (from ipython->ultralytics==8.0.20)\n",
            "  Downloading jedi-0.18.2-py2.py3-none-any.whl (1.6 MB)\n",
            "\u001b[2K     \u001b[90m━━━━━━━━━━━━━━━━━━━━━━━━━━━━━━━━━━━━━━━━\u001b[0m \u001b[32m1.6/1.6 MB\u001b[0m \u001b[31m39.4 MB/s\u001b[0m eta \u001b[36m0:00:00\u001b[0m\n",
            "\u001b[?25hRequirement already satisfied: decorator in /usr/local/lib/python3.10/dist-packages (from ipython->ultralytics==8.0.20) (4.4.2)\n",
            "Requirement already satisfied: pickleshare in /usr/local/lib/python3.10/dist-packages (from ipython->ultralytics==8.0.20) (0.7.5)\n",
            "Requirement already satisfied: traitlets>=4.2 in /usr/local/lib/python3.10/dist-packages (from ipython->ultralytics==8.0.20) (5.7.1)\n",
            "Requirement already satisfied: prompt-toolkit!=3.0.0,!=3.0.1,<3.1.0,>=2.0.0 in /usr/local/lib/python3.10/dist-packages (from ipython->ultralytics==8.0.20) (3.0.39)\n",
            "Requirement already satisfied: pygments in /usr/local/lib/python3.10/dist-packages (from ipython->ultralytics==8.0.20) (2.14.0)\n",
            "Requirement already satisfied: backcall in /usr/local/lib/python3.10/dist-packages (from ipython->ultralytics==8.0.20) (0.2.0)\n",
            "Requirement already satisfied: matplotlib-inline in /usr/local/lib/python3.10/dist-packages (from ipython->ultralytics==8.0.20) (0.1.6)\n",
            "Requirement already satisfied: pexpect>4.3 in /usr/local/lib/python3.10/dist-packages (from ipython->ultralytics==8.0.20) (4.8.0)\n",
            "Requirement already satisfied: cachetools<6.0,>=2.0.0 in /usr/local/lib/python3.10/dist-packages (from google-auth<3,>=1.6.3->tensorboard>=2.4.1->ultralytics==8.0.20) (5.3.1)\n",
            "Requirement already satisfied: pyasn1-modules>=0.2.1 in /usr/local/lib/python3.10/dist-packages (from google-auth<3,>=1.6.3->tensorboard>=2.4.1->ultralytics==8.0.20) (0.3.0)\n",
            "Requirement already satisfied: six>=1.9.0 in /usr/local/lib/python3.10/dist-packages (from google-auth<3,>=1.6.3->tensorboard>=2.4.1->ultralytics==8.0.20) (1.16.0)\n",
            "Requirement already satisfied: rsa<5,>=3.1.4 in /usr/local/lib/python3.10/dist-packages (from google-auth<3,>=1.6.3->tensorboard>=2.4.1->ultralytics==8.0.20) (4.9)\n",
            "Requirement already satisfied: requests-oauthlib>=0.7.0 in /usr/local/lib/python3.10/dist-packages (from google-auth-oauthlib<1.1,>=0.5->tensorboard>=2.4.1->ultralytics==8.0.20) (1.3.1)\n",
            "Requirement already satisfied: parso<0.9.0,>=0.8.0 in /usr/local/lib/python3.10/dist-packages (from jedi>=0.16->ipython->ultralytics==8.0.20) (0.8.3)\n",
            "Requirement already satisfied: ptyprocess>=0.5 in /usr/local/lib/python3.10/dist-packages (from pexpect>4.3->ipython->ultralytics==8.0.20) (0.7.0)\n",
            "Requirement already satisfied: wcwidth in /usr/local/lib/python3.10/dist-packages (from prompt-toolkit!=3.0.0,!=3.0.1,<3.1.0,>=2.0.0->ipython->ultralytics==8.0.20) (0.2.6)\n",
            "Requirement already satisfied: MarkupSafe>=2.1.1 in /usr/local/lib/python3.10/dist-packages (from werkzeug>=1.0.1->tensorboard>=2.4.1->ultralytics==8.0.20) (2.1.3)\n",
            "Requirement already satisfied: mpmath>=0.19 in /usr/local/lib/python3.10/dist-packages (from sympy->torch>=1.7.0->ultralytics==8.0.20) (1.3.0)\n",
            "Requirement already satisfied: pyasn1<0.6.0,>=0.4.6 in /usr/local/lib/python3.10/dist-packages (from pyasn1-modules>=0.2.1->google-auth<3,>=1.6.3->tensorboard>=2.4.1->ultralytics==8.0.20) (0.5.0)\n",
            "Requirement already satisfied: oauthlib>=3.0.0 in /usr/local/lib/python3.10/dist-packages (from requests-oauthlib>=0.7.0->google-auth-oauthlib<1.1,>=0.5->tensorboard>=2.4.1->ultralytics==8.0.20) (3.2.2)\n",
            "Installing collected packages: sentry-sdk, jedi, thop, ultralytics\n",
            "Successfully installed jedi-0.18.2 sentry-sdk-1.28.1 thop-0.1.1.post2209072238 ultralytics-8.0.20\n"
          ]
        }
      ],
      "source": [
        "!pip install ultralytics==8.0.20"
      ]
    },
    {
      "cell_type": "code",
      "execution_count": 4,
      "metadata": {
        "id": "4iW3bwQ-sk_f"
      },
      "outputs": [],
      "source": [
        "import os\n",
        "from ultralytics import YOLO"
      ]
    },
    {
      "cell_type": "code",
      "execution_count": 5,
      "metadata": {
        "id": "4dhuNhqpsmef",
        "colab": {
          "base_uri": "https://localhost:8080/"
        },
        "outputId": "4f38ac74-e142-49f8-f800-9517e49a14ac"
      },
      "outputs": [
        {
          "output_type": "stream",
          "name": "stdout",
          "text": [
            "\u001b[2K     \u001b[90m━━━━━━━━━━━━━━━━━━━━━━━━━━━━━━━━━━━━━━━━\u001b[0m \u001b[32m57.4/57.4 kB\u001b[0m \u001b[31m2.1 MB/s\u001b[0m eta \u001b[36m0:00:00\u001b[0m\n",
            "\u001b[2K     \u001b[90m━━━━━━━━━━━━━━━━━━━━━━━━━━━━━━━━━━━━━━━\u001b[0m \u001b[32m155.3/155.3 kB\u001b[0m \u001b[31m6.2 MB/s\u001b[0m eta \u001b[36m0:00:00\u001b[0m\n",
            "\u001b[2K     \u001b[90m━━━━━━━━━━━━━━━━━━━━━━━━━━━━━━━━━━━━━━━━\u001b[0m \u001b[32m58.8/58.8 kB\u001b[0m \u001b[31m5.7 MB/s\u001b[0m eta \u001b[36m0:00:00\u001b[0m\n",
            "\u001b[2K     \u001b[90m━━━━━━━━━━━━━━━━━━━━━━━━━━━━━━━━━━━━━━━━\u001b[0m \u001b[32m67.8/67.8 kB\u001b[0m \u001b[31m6.8 MB/s\u001b[0m eta \u001b[36m0:00:00\u001b[0m\n",
            "\u001b[2K     \u001b[90m━━━━━━━━━━━━━━━━━━━━━━━━━━━━━━━━━━━━━━━━\u001b[0m \u001b[32m55.6/55.6 kB\u001b[0m \u001b[31m6.1 MB/s\u001b[0m eta \u001b[36m0:00:00\u001b[0m\n",
            "\u001b[?25h  Preparing metadata (setup.py) ... \u001b[?25l\u001b[?25hdone\n",
            "\u001b[2K     \u001b[90m━━━━━━━━━━━━━━━━━━━━━━━━━━━━━━━━━━━━━━━━\u001b[0m \u001b[32m54.5/54.5 kB\u001b[0m \u001b[31m4.1 MB/s\u001b[0m eta \u001b[36m0:00:00\u001b[0m\n",
            "\u001b[?25h  Building wheel for wget (setup.py) ... \u001b[?25l\u001b[?25hdone\n"
          ]
        }
      ],
      "source": [
        "!pip install roboflow --quiet"
      ]
    },
    {
      "cell_type": "code",
      "execution_count": 7,
      "metadata": {
        "colab": {
          "base_uri": "https://localhost:8080/"
        },
        "id": "EgEphcAQsmVi",
        "outputId": "bb8b90ce-b9cd-4aa9-ed15-757b8f0975df"
      },
      "outputs": [
        {
          "output_type": "stream",
          "name": "stdout",
          "text": [
            "loading Roboflow workspace...\n",
            "loading Roboflow project...\n",
            "{'predictions': [{'x': 386.5, 'y': 240.0, 'width': 505.0, 'height': 480.0, 'confidence': 0.5726426243782043, 'class': 'confusion', 'image_path': '/content/907001100.jpg', 'prediction_type': 'ObjectDetectionModel'}], 'image': {'width': '640', 'height': '480'}}\n"
          ]
        }
      ],
      "source": [
        "from roboflow import Roboflow\n",
        "rf = Roboflow(api_key=\"jUksJerIsafXNaR1DLEz\")\n",
        "project = rf.workspace().project(\"faceemo\")\n",
        "model = project.version(2).model\n",
        "\n",
        "# infer on a local image\n",
        "print(model.predict(\"/content/907001100.jpg\", confidence=40, overlap=30).json())\n",
        "\n"
      ]
    },
    {
      "cell_type": "code",
      "execution_count": 8,
      "metadata": {
        "id": "cJaqZdW2smFB"
      },
      "outputs": [],
      "source": [
        "# visualize your prediction\n",
        "model.predict(\"/content/907001100.jpg\", confidence=40, overlap=30).save(\"prediction.jpg\")\n"
      ]
    },
    {
      "cell_type": "code",
      "execution_count": 9,
      "metadata": {
        "colab": {
          "base_uri": "https://localhost:8080/",
          "height": 467
        },
        "id": "Xy86ymj2sRYo",
        "outputId": "29a963e3-cc58-48e3-9a5b-55cc79cbec65"
      },
      "outputs": [
        {
          "output_type": "display_data",
          "data": {
            "image/jpeg": "[encoded data removed]",
            "text/plain": [
              "<IPython.core.display.Image object>"
            ]
          },
          "metadata": {
            "image/jpeg": {
              "width": 600
            }
          }
        }
      ],
      "source": [
        "from IPython.display import Image\n",
        "display(Image(\"prediction.jpg\", width=600))\n"
      ]
    },
    {
      "cell_type": "code",
      "execution_count": 10,
      "metadata": {
        "colab": {
          "base_uri": "https://localhost:8080/"
        },
        "id": "JGrI8J6YvFTo",
        "outputId": "e315df36-2a29-4d1e-d8a5-5ff2541b312e"
      },
      "outputs": [
        {
          "output_type": "stream",
          "name": "stdout",
          "text": [
            "Collecting ffmpeg\n",
            "  Downloading ffmpeg-1.4.tar.gz (5.1 kB)\n",
            "  Preparing metadata (setup.py) ... \u001b[?25l\u001b[?25hdone\n",
            "Building wheels for collected packages: ffmpeg\n",
            "  Building wheel for ffmpeg (setup.py) ... \u001b[?25l\u001b[?25hdone\n",
            "  Created wheel for ffmpeg: filename=ffmpeg-1.4-py3-none-any.whl size=6083 sha256=285b185df92dc71f74c5c909c1301d2bcb7d3121dffe52e1655d35f73073e2da\n",
            "  Stored in directory: /root/.cache/pip/wheels/8e/7a/69/cd6aeb83b126a7f04cbe7c9d929028dc52a6e7d525ff56003a\n",
            "Successfully built ffmpeg\n",
            "Installing collected packages: ffmpeg\n",
            "Successfully installed ffmpeg-1.4\n"
          ]
        }
      ],
      "source": [
        "#inferring on a video\n",
        "#installing ffmpeg\n",
        "!pip install ffmpeg"
      ]
    },
    {
      "cell_type": "markdown",
      "metadata": {
        "id": "On4bx8dVEZ54"
      },
      "source": [
        "Creating folders for the videos"
      ]
    },
    {
      "cell_type": "code",
      "execution_count": 11,
      "metadata": {
        "colab": {
          "base_uri": "https://localhost:8080/"
        },
        "id": "SE43nK-5-mXO",
        "outputId": "f0a001dd-7978-47cb-8eff-cbb23e908d1a"
      },
      "outputs": [
        {
          "output_type": "stream",
          "name": "stdout",
          "text": [
            "/content\n",
            "/content/videos_to_infer\n"
          ]
        }
      ],
      "source": [
        "%cd /content/\n",
        "!mkdir videos_to_infer\n",
        "!mkdir inferred_videos\n",
        "!mkdir videos_to_images\n",
        "%cd videos_to_infer"
      ]
    },
    {
      "cell_type": "code",
      "execution_count": 12,
      "metadata": {
        "id": "Z7P8_R8v-mDg"
      },
      "outputs": [],
      "source": [
        "# copy your videos from drive to /content/\n",
        "!cp /content/drive/MyDrive/Classroom_video.mp4 /content/videos_to_images"
      ]
    },
    {
      "cell_type": "code",
      "execution_count": 13,
      "metadata": {
        "id": "xw9KRr3l-l5j"
      },
      "outputs": [],
      "source": [
        "# break video down into images\n",
        "\n",
        "os.environ['inputFile'] = '/content/videos_to_infer/Classroom_video.mp4'"
      ]
    },
    {
      "cell_type": "code",
      "execution_count": 14,
      "metadata": {
        "id": "yYQ0hNUg-lpz"
      },
      "outputs": [],
      "source": [
        "# fps value: the number of frames to sample per second from the video\n",
        "\n",
        "!ffmpeg  -hide_banner -loglevel error -i \"/content/drive/MyDrive/Classroom_video.mp4\" -vf fps=5 \"$Classroom_video_out%04d.png\""
      ]
    },
    {
      "cell_type": "code",
      "execution_count": 15,
      "metadata": {
        "id": "TVs8iOU4_760"
      },
      "outputs": [],
      "source": [
        "from roboflow import Roboflow\n",
        "import json\n",
        "from time import sleep\n",
        "from PIL import Image, ImageDraw\n",
        "import io\n",
        "import base64\n",
        "import requests\n",
        "from os.path import exists\n",
        "import os, sys, re, glob"
      ]
    },
    {
      "cell_type": "code",
      "execution_count": 40,
      "metadata": {
        "id": "3f3EFGipEln8"
      },
      "outputs": [],
      "source": [
        "# HELPER FUNCTIONS BLOCK\n",
        "def draw_boxes(box, x0, y0, img, class_name):\n",
        "    # OPTIONAL - color map, change the key-values for each color to make the\n",
        "    # class output labels specific to your dataset\n",
        "    color_map = {\n",
        "        \"engaged\":\"purple\",\n",
        "        \"boredom\":\"pink\",\n",
        "        \"confusion\":\"orange\",\n",
        "        \"frustration\":\"blue\",\n",
        "        \"distracted\": \"green\"\n",
        "    }\n",
        "\n",
        "    # get position coordinates\n",
        "    bbox = ImageDraw.Draw(img)\n",
        "\n",
        "    bbox.rectangle(box, outline =color_map[class_name], width=5)\n",
        "    bbox.text((x0, y0), class_name, fill='black', anchor='mm')\n",
        "\n",
        "    return img\n",
        "\n",
        "def save_with_bbox_renders(img):\n",
        "    file_name = os.path.basename(img.filename)\n",
        "    img.save('/content/inferred_videos/' + file_name)"
      ]
    },
    {
      "cell_type": "code",
      "execution_count": 41,
      "metadata": {
        "colab": {
          "base_uri": "https://localhost:8080/"
        },
        "id": "8PE-2mpiElRg",
        "outputId": "1eea0e79-0c7a-45f3-f9fb-0ebdf5bee694"
      },
      "outputs": [
        {
          "output_type": "stream",
          "name": "stdout",
          "text": [
            "/content/inferred_videos\n",
            "/content/inferred_videos\n"
          ]
        }
      ],
      "source": [
        "# perform inference on each image from the split up video\n",
        "\n",
        "%cd /content/inferred_videos\n",
        "!pwd\n"
      ]
    },
    {
      "cell_type": "code",
      "source": [
        "!pwd"
      ],
      "metadata": {
        "colab": {
          "base_uri": "https://localhost:8080/"
        },
        "id": "pPbE6g2nb6VM",
        "outputId": "5a490868-8dc3-4ecf-aa97-14401898c0ad"
      },
      "execution_count": 20,
      "outputs": [
        {
          "output_type": "stream",
          "name": "stdout",
          "text": [
            "/content/inferred_videos\n"
          ]
        }
      ]
    },
    {
      "cell_type": "code",
      "source": [
        "%cd ..\n",
        "%cd .."
      ],
      "metadata": {
        "colab": {
          "base_uri": "https://localhost:8080/"
        },
        "id": "K9WBbtNFcW1k",
        "outputId": "c10382bf-7ccc-4a55-b765-4c593a0f20e5"
      },
      "execution_count": 42,
      "outputs": [
        {
          "output_type": "stream",
          "name": "stdout",
          "text": [
            "/content\n",
            "/\n"
          ]
        }
      ]
    },
    {
      "cell_type": "code",
      "source": [
        "%cd content/videos_to_infer\n",
        "!ls\n",
        "%cd ..\n",
        "%cd .."
      ],
      "metadata": {
        "colab": {
          "base_uri": "https://localhost:8080/"
        },
        "id": "g1qMy0gVfA--",
        "outputId": "b67cdfe3-d87b-418f-8ef0-08771cdaec78"
      },
      "execution_count": 43,
      "outputs": [
        {
          "output_type": "stream",
          "name": "stdout",
          "text": [
            "/content/videos_to_infer\n",
            "0001.png  0017.png  0033.png  0049.png\t0065.png  0081.png  0097.png  0113.png\n",
            "0002.png  0018.png  0034.png  0050.png\t0066.png  0082.png  0098.png  0114.png\n",
            "0003.png  0019.png  0035.png  0051.png\t0067.png  0083.png  0099.png  0115.png\n",
            "0004.png  0020.png  0036.png  0052.png\t0068.png  0084.png  0100.png  0116.png\n",
            "0005.png  0021.png  0037.png  0053.png\t0069.png  0085.png  0101.png  0117.png\n",
            "0006.png  0022.png  0038.png  0054.png\t0070.png  0086.png  0102.png  0118.png\n",
            "0007.png  0023.png  0039.png  0055.png\t0071.png  0087.png  0103.png  0119.png\n",
            "0008.png  0024.png  0040.png  0056.png\t0072.png  0088.png  0104.png  0120.png\n",
            "0009.png  0025.png  0041.png  0057.png\t0073.png  0089.png  0105.png  0121.png\n",
            "0010.png  0026.png  0042.png  0058.png\t0074.png  0090.png  0106.png  0122.png\n",
            "0011.png  0027.png  0043.png  0059.png\t0075.png  0091.png  0107.png  0123.png\n",
            "0012.png  0028.png  0044.png  0060.png\t0076.png  0092.png  0108.png  0124.png\n",
            "0013.png  0029.png  0045.png  0061.png\t0077.png  0093.png  0109.png  0125.png\n",
            "0014.png  0030.png  0046.png  0062.png\t0078.png  0094.png  0110.png  0126.png\n",
            "0015.png  0031.png  0047.png  0063.png\t0079.png  0095.png  0111.png\n",
            "0016.png  0032.png  0048.png  0064.png\t0080.png  0096.png  0112.png\n",
            "/content\n",
            "/\n"
          ]
        }
      ]
    },
    {
      "cell_type": "code",
      "execution_count": 44,
      "metadata": {
        "colab": {
          "base_uri": "https://localhost:8080/"
        },
        "id": "ltMGpn1OO6-y",
        "outputId": "99ef1d19-29cc-4170-fdeb-abcd7d0602b1"
      },
      "outputs": [
        {
          "output_type": "stream",
          "name": "stdout",
          "text": [
            "/\n",
            "['/content/videos_to_infer/0011.png', '/content/videos_to_infer/0085.png', '/content/videos_to_infer/0040.png', '/content/videos_to_infer/0076.png', '/content/videos_to_infer/0059.png', '/content/videos_to_infer/0065.png', '/content/videos_to_infer/0079.png', '/content/videos_to_infer/0117.png', '/content/videos_to_infer/0070.png', '/content/videos_to_infer/0067.png', '/content/videos_to_infer/0105.png', '/content/videos_to_infer/0048.png', '/content/videos_to_infer/0062.png', '/content/videos_to_infer/0063.png', '/content/videos_to_infer/0108.png', '/content/videos_to_infer/0024.png', '/content/videos_to_infer/0032.png', '/content/videos_to_infer/0054.png', '/content/videos_to_infer/0103.png', '/content/videos_to_infer/0060.png', '/content/videos_to_infer/0115.png', '/content/videos_to_infer/0001.png', '/content/videos_to_infer/0074.png', '/content/videos_to_infer/0008.png', '/content/videos_to_infer/0096.png', '/content/videos_to_infer/0057.png', '/content/videos_to_infer/0049.png', '/content/videos_to_infer/0072.png', '/content/videos_to_infer/0055.png', '/content/videos_to_infer/0036.png', '/content/videos_to_infer/0087.png', '/content/videos_to_infer/0106.png', '/content/videos_to_infer/0045.png', '/content/videos_to_infer/0056.png', '/content/videos_to_infer/0097.png', '/content/videos_to_infer/0099.png', '/content/videos_to_infer/0027.png', '/content/videos_to_infer/0111.png', '/content/videos_to_infer/0086.png', '/content/videos_to_infer/0090.png', '/content/videos_to_infer/0035.png', '/content/videos_to_infer/0014.png', '/content/videos_to_infer/0047.png', '/content/videos_to_infer/0038.png', '/content/videos_to_infer/0031.png', '/content/videos_to_infer/0113.png', '/content/videos_to_infer/0007.png', '/content/videos_to_infer/0005.png', '/content/videos_to_infer/0084.png', '/content/videos_to_infer/0102.png', '/content/videos_to_infer/0046.png', '/content/videos_to_infer/0015.png', '/content/videos_to_infer/0025.png', '/content/videos_to_infer/0122.png', '/content/videos_to_infer/0118.png', '/content/videos_to_infer/0104.png', '/content/videos_to_infer/0119.png', '/content/videos_to_infer/0026.png', '/content/videos_to_infer/0092.png', '/content/videos_to_infer/0051.png', '/content/videos_to_infer/0017.png', '/content/videos_to_infer/0116.png', '/content/videos_to_infer/0042.png', '/content/videos_to_infer/0066.png', '/content/videos_to_infer/0044.png', '/content/videos_to_infer/0077.png', '/content/videos_to_infer/0039.png', '/content/videos_to_infer/0082.png', '/content/videos_to_infer/0126.png', '/content/videos_to_infer/0006.png', '/content/videos_to_infer/0069.png', '/content/videos_to_infer/0037.png', '/content/videos_to_infer/0003.png', '/content/videos_to_infer/0120.png', '/content/videos_to_infer/0034.png', '/content/videos_to_infer/0020.png', '/content/videos_to_infer/0112.png', '/content/videos_to_infer/0121.png', '/content/videos_to_infer/0019.png', '/content/videos_to_infer/0029.png', '/content/videos_to_infer/0071.png', '/content/videos_to_infer/0109.png', '/content/videos_to_infer/0041.png', '/content/videos_to_infer/0083.png', '/content/videos_to_infer/0068.png', '/content/videos_to_infer/0018.png', '/content/videos_to_infer/0064.png', '/content/videos_to_infer/0028.png', '/content/videos_to_infer/0125.png', '/content/videos_to_infer/0089.png', '/content/videos_to_infer/0095.png', '/content/videos_to_infer/0002.png', '/content/videos_to_infer/0023.png', '/content/videos_to_infer/0093.png', '/content/videos_to_infer/0058.png', '/content/videos_to_infer/0073.png', '/content/videos_to_infer/0110.png', '/content/videos_to_infer/0124.png', '/content/videos_to_infer/0021.png', '/content/videos_to_infer/0114.png', '/content/videos_to_infer/0009.png', '/content/videos_to_infer/0081.png', '/content/videos_to_infer/0013.png', '/content/videos_to_infer/0088.png', '/content/videos_to_infer/0050.png', '/content/videos_to_infer/0004.png', '/content/videos_to_infer/0075.png', '/content/videos_to_infer/0052.png', '/content/videos_to_infer/0078.png', '/content/videos_to_infer/0107.png', '/content/videos_to_infer/0061.png', '/content/videos_to_infer/0123.png', '/content/videos_to_infer/0100.png', '/content/videos_to_infer/0080.png', '/content/videos_to_infer/0098.png', '/content/videos_to_infer/0016.png', '/content/videos_to_infer/0101.png', '/content/videos_to_infer/0094.png', '/content/videos_to_infer/0033.png', '/content/videos_to_infer/0030.png', '/content/videos_to_infer/0053.png', '/content/videos_to_infer/0022.png', '/content/videos_to_infer/0043.png', '/content/videos_to_infer/0091.png', '/content/videos_to_infer/0012.png', '/content/videos_to_infer/0010.png']\n",
            "[]\n",
            "[{'x': 320.0, 'y': 181.0, 'width': 640.0, 'height': 358.0, 'confidence': 0.8465350866317749, 'class': 'engaged', 'image_path': '/content/videos_to_infer/0011.png', 'prediction_type': 'ObjectDetectionModel'}]\n",
            "[]\n",
            "[{'x': 320.5, 'y': 179.5, 'width': 639.0, 'height': 359.0, 'confidence': 0.945227861404419, 'class': 'engaged', 'image_path': '/content/videos_to_infer/0040.png', 'prediction_type': 'ObjectDetectionModel'}]\n",
            "[{'x': 320.5, 'y': 180.0, 'width': 639.0, 'height': 360.0, 'confidence': 0.9224520921707153, 'class': 'engaged', 'image_path': '/content/videos_to_infer/0076.png', 'prediction_type': 'ObjectDetectionModel'}]\n",
            "[{'x': 320.0, 'y': 180.0, 'width': 640.0, 'height': 360.0, 'confidence': 0.8130571842193604, 'class': 'engaged', 'image_path': '/content/videos_to_infer/0059.png', 'prediction_type': 'ObjectDetectionModel'}]\n",
            "[{'x': 319.5, 'y': 179.5, 'width': 639.0, 'height': 357.0, 'confidence': 0.9673871994018555, 'class': 'engaged', 'image_path': '/content/videos_to_infer/0065.png', 'prediction_type': 'ObjectDetectionModel'}]\n",
            "[{'x': 320.0, 'y': 180.0, 'width': 640.0, 'height': 360.0, 'confidence': 0.8512059450149536, 'class': 'engaged', 'image_path': '/content/videos_to_infer/0079.png', 'prediction_type': 'ObjectDetectionModel'}]\n",
            "[{'x': 320.0, 'y': 178.5, 'width': 638.0, 'height': 357.0, 'confidence': 0.6632115244865417, 'class': 'engaged', 'image_path': '/content/videos_to_infer/0117.png', 'prediction_type': 'ObjectDetectionModel'}]\n",
            "[{'x': 320.0, 'y': 179.5, 'width': 640.0, 'height': 359.0, 'confidence': 0.7740779519081116, 'class': 'confusion', 'image_path': '/content/videos_to_infer/0070.png', 'prediction_type': 'ObjectDetectionModel'}]\n",
            "[{'x': 320.5, 'y': 179.5, 'width': 639.0, 'height': 357.0, 'confidence': 0.792565643787384, 'class': 'engaged', 'image_path': '/content/videos_to_infer/0067.png', 'prediction_type': 'ObjectDetectionModel'}]\n",
            "[{'x': 319.5, 'y': 179.5, 'width': 639.0, 'height': 359.0, 'confidence': 0.8170899152755737, 'class': 'engaged', 'image_path': '/content/videos_to_infer/0105.png', 'prediction_type': 'ObjectDetectionModel'}]\n",
            "[]\n",
            "[{'x': 320.0, 'y': 180.0, 'width': 640.0, 'height': 360.0, 'confidence': 0.9478263258934021, 'class': 'engaged', 'image_path': '/content/videos_to_infer/0062.png', 'prediction_type': 'ObjectDetectionModel'}]\n",
            "[{'x': 319.5, 'y': 179.5, 'width': 639.0, 'height': 359.0, 'confidence': 0.9025707244873047, 'class': 'engaged', 'image_path': '/content/videos_to_infer/0063.png', 'prediction_type': 'ObjectDetectionModel'}]\n",
            "[{'x': 320.0, 'y': 176.5, 'width': 638.0, 'height': 353.0, 'confidence': 0.9522545337677002, 'class': 'engaged', 'image_path': '/content/videos_to_infer/0108.png', 'prediction_type': 'ObjectDetectionModel'}]\n",
            "[{'x': 320.0, 'y': 180.0, 'width': 640.0, 'height': 360.0, 'confidence': 0.4733026325702667, 'class': 'engaged', 'image_path': '/content/videos_to_infer/0024.png', 'prediction_type': 'ObjectDetectionModel'}]\n",
            "[{'x': 434.5, 'y': 179.0, 'width': 409.0, 'height': 354.0, 'confidence': 0.8940058946609497, 'class': 'engaged', 'image_path': '/content/videos_to_infer/0032.png', 'prediction_type': 'ObjectDetectionModel'}, {'x': 115.5, 'y': 179.5, 'width': 231.0, 'height': 357.0, 'confidence': 0.8129265308380127, 'class': 'engaged', 'image_path': '/content/videos_to_infer/0032.png', 'prediction_type': 'ObjectDetectionModel'}]\n",
            "[]\n",
            "[{'x': 320.5, 'y': 179.5, 'width': 639.0, 'height': 359.0, 'confidence': 0.9399677515029907, 'class': 'engaged', 'image_path': '/content/videos_to_infer/0103.png', 'prediction_type': 'ObjectDetectionModel'}]\n",
            "[{'x': 324.0, 'y': 180.0, 'width': 632.0, 'height': 360.0, 'confidence': 0.6585548520088196, 'class': 'engaged', 'image_path': '/content/videos_to_infer/0060.png', 'prediction_type': 'ObjectDetectionModel'}]\n",
            "[{'x': 320.0, 'y': 178.0, 'width': 638.0, 'height': 356.0, 'confidence': 0.9436724185943604, 'class': 'engaged', 'image_path': '/content/videos_to_infer/0115.png', 'prediction_type': 'ObjectDetectionModel'}]\n",
            "[{'x': 320.0, 'y': 180.0, 'width': 640.0, 'height': 360.0, 'confidence': 0.9677022695541382, 'class': 'engaged', 'image_path': '/content/videos_to_infer/0001.png', 'prediction_type': 'ObjectDetectionModel'}]\n",
            "[{'x': 319.5, 'y': 180.0, 'width': 639.0, 'height': 360.0, 'confidence': 0.6829551458358765, 'class': 'engaged', 'image_path': '/content/videos_to_infer/0074.png', 'prediction_type': 'ObjectDetectionModel'}]\n",
            "[{'x': 320.5, 'y': 179.5, 'width': 639.0, 'height': 359.0, 'confidence': 0.9779175519943237, 'class': 'engaged', 'image_path': '/content/videos_to_infer/0008.png', 'prediction_type': 'ObjectDetectionModel'}]\n",
            "[{'x': 319.5, 'y': 179.5, 'width': 639.0, 'height': 359.0, 'confidence': 0.8594728708267212, 'class': 'engaged', 'image_path': '/content/videos_to_infer/0096.png', 'prediction_type': 'ObjectDetectionModel'}]\n",
            "[{'x': 320.0, 'y': 178.5, 'width': 640.0, 'height': 357.0, 'confidence': 0.9373270273208618, 'class': 'engaged', 'image_path': '/content/videos_to_infer/0057.png', 'prediction_type': 'ObjectDetectionModel'}]\n",
            "[{'x': 320.0, 'y': 180.0, 'width': 640.0, 'height': 360.0, 'confidence': 0.8746178150177002, 'class': 'engaged', 'image_path': '/content/videos_to_infer/0049.png', 'prediction_type': 'ObjectDetectionModel'}]\n",
            "[{'x': 320.0, 'y': 180.0, 'width': 640.0, 'height': 358.0, 'confidence': 0.4584200978279114, 'class': 'confusion', 'image_path': '/content/videos_to_infer/0072.png', 'prediction_type': 'ObjectDetectionModel'}]\n",
            "[{'x': 320.0, 'y': 180.0, 'width': 640.0, 'height': 360.0, 'confidence': 0.4986724853515625, 'class': 'engaged', 'image_path': '/content/videos_to_infer/0055.png', 'prediction_type': 'ObjectDetectionModel'}]\n",
            "[{'x': 319.5, 'y': 179.5, 'width': 639.0, 'height': 359.0, 'confidence': 0.8832614421844482, 'class': 'engaged', 'image_path': '/content/videos_to_infer/0036.png', 'prediction_type': 'ObjectDetectionModel'}]\n",
            "[{'x': 320.0, 'y': 70.0, 'width': 640.0, 'height': 140.0, 'confidence': 0.8520725965499878, 'class': 'engaged', 'image_path': '/content/videos_to_infer/0087.png', 'prediction_type': 'ObjectDetectionModel'}, {'x': 328.0, 'y': 249.0, 'width': 624.0, 'height': 220.0, 'confidence': 0.6373262405395508, 'class': 'boredom', 'image_path': '/content/videos_to_infer/0087.png', 'prediction_type': 'ObjectDetectionModel'}]\n",
            "[{'x': 320.0, 'y': 179.5, 'width': 640.0, 'height': 359.0, 'confidence': 0.9260479211807251, 'class': 'engaged', 'image_path': '/content/videos_to_infer/0106.png', 'prediction_type': 'ObjectDetectionModel'}]\n",
            "[{'x': 320.0, 'y': 180.5, 'width': 638.0, 'height': 359.0, 'confidence': 0.8002322912216187, 'class': 'engaged', 'image_path': '/content/videos_to_infer/0045.png', 'prediction_type': 'ObjectDetectionModel'}]\n",
            "[{'x': 320.0, 'y': 176.5, 'width': 640.0, 'height': 353.0, 'confidence': 0.8972784280776978, 'class': 'engaged', 'image_path': '/content/videos_to_infer/0056.png', 'prediction_type': 'ObjectDetectionModel'}]\n",
            "[{'x': 320.0, 'y': 179.5, 'width': 638.0, 'height': 359.0, 'confidence': 0.6746427416801453, 'class': 'engaged', 'image_path': '/content/videos_to_infer/0097.png', 'prediction_type': 'ObjectDetectionModel'}]\n",
            "[{'x': 320.0, 'y': 180.0, 'width': 640.0, 'height': 360.0, 'confidence': 0.8135367631912231, 'class': 'engaged', 'image_path': '/content/videos_to_infer/0099.png', 'prediction_type': 'ObjectDetectionModel'}]\n",
            "[{'x': 320.0, 'y': 180.5, 'width': 640.0, 'height': 359.0, 'confidence': 0.7854921817779541, 'class': 'engaged', 'image_path': '/content/videos_to_infer/0027.png', 'prediction_type': 'ObjectDetectionModel'}]\n",
            "[{'x': 320.5, 'y': 178.0, 'width': 637.0, 'height': 356.0, 'confidence': 0.6914700865745544, 'class': 'engaged', 'image_path': '/content/videos_to_infer/0111.png', 'prediction_type': 'ObjectDetectionModel'}]\n",
            "[]\n",
            "[]\n",
            "[{'x': 320.5, 'y': 180.0, 'width': 639.0, 'height': 360.0, 'confidence': 0.9081755876541138, 'class': 'engaged', 'image_path': '/content/videos_to_infer/0035.png', 'prediction_type': 'ObjectDetectionModel'}]\n",
            "[{'x': 320.5, 'y': 179.5, 'width': 639.0, 'height': 359.0, 'confidence': 0.803417980670929, 'class': 'engaged', 'image_path': '/content/videos_to_infer/0014.png', 'prediction_type': 'ObjectDetectionModel'}]\n",
            "[]\n",
            "[{'x': 440.0, 'y': 180.0, 'width': 400.0, 'height': 360.0, 'confidence': 0.9291260838508606, 'class': 'engaged', 'image_path': '/content/videos_to_infer/0038.png', 'prediction_type': 'ObjectDetectionModel'}]\n",
            "[{'x': 436.0, 'y': 178.5, 'width': 406.0, 'height': 357.0, 'confidence': 0.7895689010620117, 'class': 'engaged', 'image_path': '/content/videos_to_infer/0031.png', 'prediction_type': 'ObjectDetectionModel'}, {'x': 116.5, 'y': 179.0, 'width': 233.0, 'height': 356.0, 'confidence': 0.7671783566474915, 'class': 'engaged', 'image_path': '/content/videos_to_infer/0031.png', 'prediction_type': 'ObjectDetectionModel'}]\n",
            "[{'x': 320.0, 'y': 176.0, 'width': 638.0, 'height': 352.0, 'confidence': 0.8862282037734985, 'class': 'engaged', 'image_path': '/content/videos_to_infer/0113.png', 'prediction_type': 'ObjectDetectionModel'}]\n",
            "[{'x': 319.5, 'y': 177.5, 'width': 639.0, 'height': 355.0, 'confidence': 0.7062935829162598, 'class': 'engaged', 'image_path': '/content/videos_to_infer/0007.png', 'prediction_type': 'ObjectDetectionModel'}]\n",
            "[{'x': 320.0, 'y': 176.0, 'width': 640.0, 'height': 352.0, 'confidence': 0.9313075542449951, 'class': 'engaged', 'image_path': '/content/videos_to_infer/0005.png', 'prediction_type': 'ObjectDetectionModel'}]\n",
            "[{'x': 320.0, 'y': 180.0, 'width': 640.0, 'height': 358.0, 'confidence': 0.4780099391937256, 'class': 'engaged', 'image_path': '/content/videos_to_infer/0084.png', 'prediction_type': 'ObjectDetectionModel'}]\n",
            "[{'x': 320.0, 'y': 179.5, 'width': 640.0, 'height': 359.0, 'confidence': 0.8726558685302734, 'class': 'engaged', 'image_path': '/content/videos_to_infer/0102.png', 'prediction_type': 'ObjectDetectionModel'}]\n",
            "[{'x': 320.0, 'y': 180.0, 'width': 638.0, 'height': 360.0, 'confidence': 0.7664647102355957, 'class': 'engaged', 'image_path': '/content/videos_to_infer/0046.png', 'prediction_type': 'ObjectDetectionModel'}]\n",
            "[{'x': 320.0, 'y': 179.5, 'width': 640.0, 'height': 359.0, 'confidence': 0.9019936323165894, 'class': 'engaged', 'image_path': '/content/videos_to_infer/0015.png', 'prediction_type': 'ObjectDetectionModel'}]\n",
            "[{'x': 320.0, 'y': 180.0, 'width': 640.0, 'height': 360.0, 'confidence': 0.4997059106826782, 'class': 'engaged', 'image_path': '/content/videos_to_infer/0025.png', 'prediction_type': 'ObjectDetectionModel'}]\n",
            "[]\n",
            "[]\n",
            "[{'x': 320.0, 'y': 179.5, 'width': 640.0, 'height': 359.0, 'confidence': 0.9239723682403564, 'class': 'engaged', 'image_path': '/content/videos_to_infer/0104.png', 'prediction_type': 'ObjectDetectionModel'}]\n",
            "[{'x': 319.5, 'y': 179.0, 'width': 639.0, 'height': 356.0, 'confidence': 0.5642855167388916, 'class': 'engaged', 'image_path': '/content/videos_to_infer/0119.png', 'prediction_type': 'ObjectDetectionModel'}]\n",
            "[]\n",
            "[]\n",
            "[{'x': 320.0, 'y': 180.0, 'width': 640.0, 'height': 360.0, 'confidence': 0.7746398448944092, 'class': 'engaged', 'image_path': '/content/videos_to_infer/0051.png', 'prediction_type': 'ObjectDetectionModel'}]\n",
            "[{'x': 320.0, 'y': 180.0, 'width': 638.0, 'height': 360.0, 'confidence': 0.4522095322608948, 'class': 'engaged', 'image_path': '/content/videos_to_infer/0017.png', 'prediction_type': 'ObjectDetectionModel'}]\n",
            "[{'x': 320.5, 'y': 178.5, 'width': 637.0, 'height': 357.0, 'confidence': 0.9581758975982666, 'class': 'engaged', 'image_path': '/content/videos_to_infer/0116.png', 'prediction_type': 'ObjectDetectionModel'}]\n",
            "[{'x': 320.0, 'y': 180.0, 'width': 640.0, 'height': 360.0, 'confidence': 0.7947573661804199, 'class': 'engaged', 'image_path': '/content/videos_to_infer/0042.png', 'prediction_type': 'ObjectDetectionModel'}]\n",
            "[{'x': 320.0, 'y': 179.0, 'width': 638.0, 'height': 356.0, 'confidence': 0.9412705898284912, 'class': 'engaged', 'image_path': '/content/videos_to_infer/0066.png', 'prediction_type': 'ObjectDetectionModel'}]\n",
            "[{'x': 320.0, 'y': 181.0, 'width': 640.0, 'height': 358.0, 'confidence': 0.7077665328979492, 'class': 'engaged', 'image_path': '/content/videos_to_infer/0044.png', 'prediction_type': 'ObjectDetectionModel'}]\n",
            "[{'x': 320.5, 'y': 180.0, 'width': 639.0, 'height': 360.0, 'confidence': 0.9302283525466919, 'class': 'engaged', 'image_path': '/content/videos_to_infer/0077.png', 'prediction_type': 'ObjectDetectionModel'}]\n",
            "[{'x': 320.5, 'y': 179.5, 'width': 639.0, 'height': 359.0, 'confidence': 0.9472364187240601, 'class': 'engaged', 'image_path': '/content/videos_to_infer/0039.png', 'prediction_type': 'ObjectDetectionModel'}]\n",
            "[{'x': 320.5, 'y': 180.0, 'width': 639.0, 'height': 360.0, 'confidence': 0.6822491884231567, 'class': 'engaged', 'image_path': '/content/videos_to_infer/0082.png', 'prediction_type': 'ObjectDetectionModel'}]\n",
            "[{'x': 319.5, 'y': 180.0, 'width': 639.0, 'height': 358.0, 'confidence': 0.559764564037323, 'class': 'engaged', 'image_path': '/content/videos_to_infer/0126.png', 'prediction_type': 'ObjectDetectionModel'}]\n",
            "[{'x': 320.5, 'y': 179.0, 'width': 639.0, 'height': 358.0, 'confidence': 0.9678592681884766, 'class': 'engaged', 'image_path': '/content/videos_to_infer/0006.png', 'prediction_type': 'ObjectDetectionModel'}]\n",
            "[]\n",
            "[{'x': 319.5, 'y': 180.0, 'width': 639.0, 'height': 358.0, 'confidence': 0.9256845712661743, 'class': 'engaged', 'image_path': '/content/videos_to_infer/0037.png', 'prediction_type': 'ObjectDetectionModel'}]\n",
            "[{'x': 320.0, 'y': 180.0, 'width': 640.0, 'height': 360.0, 'confidence': 0.9191898107528687, 'class': 'engaged', 'image_path': '/content/videos_to_infer/0003.png', 'prediction_type': 'ObjectDetectionModel'}]\n",
            "[]\n",
            "[{'x': 320.5, 'y': 180.0, 'width': 639.0, 'height': 360.0, 'confidence': 0.6914905309677124, 'class': 'engaged', 'image_path': '/content/videos_to_infer/0034.png', 'prediction_type': 'ObjectDetectionModel'}]\n",
            "[]\n",
            "[{'x': 320.0, 'y': 178.0, 'width': 638.0, 'height': 356.0, 'confidence': 0.8723651170730591, 'class': 'engaged', 'image_path': '/content/videos_to_infer/0112.png', 'prediction_type': 'ObjectDetectionModel'}]\n",
            "[]\n",
            "[]\n",
            "[]\n",
            "[{'x': 320.0, 'y': 179.5, 'width': 640.0, 'height': 359.0, 'confidence': 0.769453763961792, 'class': 'confusion', 'image_path': '/content/videos_to_infer/0071.png', 'prediction_type': 'ObjectDetectionModel'}]\n",
            "[{'x': 320.5, 'y': 177.0, 'width': 637.0, 'height': 354.0, 'confidence': 0.9619560241699219, 'class': 'engaged', 'image_path': '/content/videos_to_infer/0109.png', 'prediction_type': 'ObjectDetectionModel'}]\n",
            "[{'x': 319.5, 'y': 180.0, 'width': 639.0, 'height': 360.0, 'confidence': 0.9201754331588745, 'class': 'engaged', 'image_path': '/content/videos_to_infer/0041.png', 'prediction_type': 'ObjectDetectionModel'}]\n",
            "[]\n",
            "[]\n",
            "[]\n",
            "[{'x': 320.0, 'y': 179.0, 'width': 640.0, 'height': 358.0, 'confidence': 0.9586043357849121, 'class': 'engaged', 'image_path': '/content/videos_to_infer/0064.png', 'prediction_type': 'ObjectDetectionModel'}]\n",
            "[{'x': 320.0, 'y': 180.0, 'width': 640.0, 'height': 360.0, 'confidence': 0.44892024993896484, 'class': 'engaged', 'image_path': '/content/videos_to_infer/0028.png', 'prediction_type': 'ObjectDetectionModel'}]\n",
            "[]\n",
            "[{'x': 334.0, 'y': 70.0, 'width': 612.0, 'height': 140.0, 'confidence': 0.7078827619552612, 'class': 'engaged', 'image_path': '/content/videos_to_infer/0089.png', 'prediction_type': 'ObjectDetectionModel'}, {'x': 335.5, 'y': 246.5, 'width': 607.0, 'height': 211.0, 'confidence': 0.5733848214149475, 'class': 'engaged', 'image_path': '/content/videos_to_infer/0089.png', 'prediction_type': 'ObjectDetectionModel'}]\n",
            "[{'x': 320.0, 'y': 178.5, 'width': 640.0, 'height': 357.0, 'confidence': 0.9586794376373291, 'class': 'engaged', 'image_path': '/content/videos_to_infer/0095.png', 'prediction_type': 'ObjectDetectionModel'}]\n",
            "[{'x': 320.0, 'y': 180.0, 'width': 640.0, 'height': 360.0, 'confidence': 0.9448655843734741, 'class': 'engaged', 'image_path': '/content/videos_to_infer/0002.png', 'prediction_type': 'ObjectDetectionModel'}]\n",
            "[{'x': 320.0, 'y': 180.0, 'width': 640.0, 'height': 360.0, 'confidence': 0.4196203351020813, 'class': 'engaged', 'image_path': '/content/videos_to_infer/0023.png', 'prediction_type': 'ObjectDetectionModel'}]\n",
            "[]\n",
            "[{'x': 319.5, 'y': 180.0, 'width': 639.0, 'height': 360.0, 'confidence': 0.5173460841178894, 'class': 'engaged', 'image_path': '/content/videos_to_infer/0058.png', 'prediction_type': 'ObjectDetectionModel'}]\n",
            "[{'x': 320.0, 'y': 180.0, 'width': 640.0, 'height': 360.0, 'confidence': 0.41950616240501404, 'class': 'boredom', 'image_path': '/content/videos_to_infer/0073.png', 'prediction_type': 'ObjectDetectionModel'}]\n",
            "[{'x': 320.0, 'y': 176.5, 'width': 638.0, 'height': 353.0, 'confidence': 0.9185843467712402, 'class': 'engaged', 'image_path': '/content/videos_to_infer/0110.png', 'prediction_type': 'ObjectDetectionModel'}]\n",
            "[{'x': 320.0, 'y': 180.0, 'width': 640.0, 'height': 358.0, 'confidence': 0.46502920985221863, 'class': 'engaged', 'image_path': '/content/videos_to_infer/0124.png', 'prediction_type': 'ObjectDetectionModel'}]\n",
            "[]\n",
            "[{'x': 320.0, 'y': 176.0, 'width': 638.0, 'height': 352.0, 'confidence': 0.7115165591239929, 'class': 'engaged', 'image_path': '/content/videos_to_infer/0114.png', 'prediction_type': 'ObjectDetectionModel'}]\n",
            "[{'x': 320.0, 'y': 179.5, 'width': 638.0, 'height': 359.0, 'confidence': 0.8310298919677734, 'class': 'engaged', 'image_path': '/content/videos_to_infer/0009.png', 'prediction_type': 'ObjectDetectionModel'}]\n",
            "[]\n",
            "[{'x': 319.5, 'y': 178.5, 'width': 639.0, 'height': 357.0, 'confidence': 0.9631317853927612, 'class': 'engaged', 'image_path': '/content/videos_to_infer/0013.png', 'prediction_type': 'ObjectDetectionModel'}]\n",
            "[{'x': 320.0, 'y': 70.5, 'width': 640.0, 'height': 141.0, 'confidence': 0.9178992509841919, 'class': 'engaged', 'image_path': '/content/videos_to_infer/0088.png', 'prediction_type': 'ObjectDetectionModel'}, {'x': 322.0, 'y': 249.0, 'width': 634.0, 'height': 218.0, 'confidence': 0.7047950029373169, 'class': 'engaged', 'image_path': '/content/videos_to_infer/0088.png', 'prediction_type': 'ObjectDetectionModel'}]\n",
            "[{'x': 320.0, 'y': 180.0, 'width': 638.0, 'height': 360.0, 'confidence': 0.7957391738891602, 'class': 'engaged', 'image_path': '/content/videos_to_infer/0050.png', 'prediction_type': 'ObjectDetectionModel'}]\n",
            "[{'x': 320.5, 'y': 177.0, 'width': 639.0, 'height': 354.0, 'confidence': 0.9292504787445068, 'class': 'engaged', 'image_path': '/content/videos_to_infer/0004.png', 'prediction_type': 'ObjectDetectionModel'}]\n",
            "[{'x': 320.5, 'y': 180.0, 'width': 639.0, 'height': 360.0, 'confidence': 0.5876253843307495, 'class': 'engaged', 'image_path': '/content/videos_to_infer/0075.png', 'prediction_type': 'ObjectDetectionModel'}]\n",
            "[{'x': 320.0, 'y': 180.0, 'width': 640.0, 'height': 360.0, 'confidence': 0.8966150283813477, 'class': 'engaged', 'image_path': '/content/videos_to_infer/0052.png', 'prediction_type': 'ObjectDetectionModel'}]\n",
            "[{'x': 320.0, 'y': 180.0, 'width': 640.0, 'height': 360.0, 'confidence': 0.8843921422958374, 'class': 'engaged', 'image_path': '/content/videos_to_infer/0078.png', 'prediction_type': 'ObjectDetectionModel'}]\n",
            "[{'x': 316.0, 'y': 177.5, 'width': 628.0, 'height': 355.0, 'confidence': 0.7758952379226685, 'class': 'engaged', 'image_path': '/content/videos_to_infer/0107.png', 'prediction_type': 'ObjectDetectionModel'}]\n",
            "[]\n",
            "[]\n",
            "[{'x': 320.0, 'y': 179.5, 'width': 640.0, 'height': 359.0, 'confidence': 0.9224026203155518, 'class': 'engaged', 'image_path': '/content/videos_to_infer/0100.png', 'prediction_type': 'ObjectDetectionModel'}]\n",
            "[{'x': 320.0, 'y': 180.0, 'width': 640.0, 'height': 360.0, 'confidence': 0.7947436571121216, 'class': 'engaged', 'image_path': '/content/videos_to_infer/0080.png', 'prediction_type': 'ObjectDetectionModel'}]\n",
            "[{'x': 335.0, 'y': 180.0, 'width': 610.0, 'height': 360.0, 'confidence': 0.8224514722824097, 'class': 'engaged', 'image_path': '/content/videos_to_infer/0098.png', 'prediction_type': 'ObjectDetectionModel'}]\n",
            "[]\n",
            "[{'x': 320.0, 'y': 179.5, 'width': 640.0, 'height': 359.0, 'confidence': 0.5921218395233154, 'class': 'engaged', 'image_path': '/content/videos_to_infer/0101.png', 'prediction_type': 'ObjectDetectionModel'}]\n",
            "[{'x': 320.5, 'y': 178.0, 'width': 639.0, 'height': 356.0, 'confidence': 0.7682676315307617, 'class': 'engaged', 'image_path': '/content/videos_to_infer/0094.png', 'prediction_type': 'ObjectDetectionModel'}]\n",
            "[{'x': 432.0, 'y': 180.0, 'width': 414.0, 'height': 358.0, 'confidence': 0.9204649925231934, 'class': 'engaged', 'image_path': '/content/videos_to_infer/0033.png', 'prediction_type': 'ObjectDetectionModel'}, {'x': 109.5, 'y': 180.0, 'width': 219.0, 'height': 358.0, 'confidence': 0.7613891959190369, 'class': 'engaged', 'image_path': '/content/videos_to_infer/0033.png', 'prediction_type': 'ObjectDetectionModel'}]\n",
            "[{'x': 365.5, 'y': 180.0, 'width': 545.0, 'height': 360.0, 'confidence': 0.41989338397979736, 'class': 'engaged', 'image_path': '/content/videos_to_infer/0030.png', 'prediction_type': 'ObjectDetectionModel'}]\n",
            "[]\n",
            "[{'x': 319.5, 'y': 180.0, 'width': 639.0, 'height': 360.0, 'confidence': 0.716105580329895, 'class': 'engaged', 'image_path': '/content/videos_to_infer/0022.png', 'prediction_type': 'ObjectDetectionModel'}]\n",
            "[{'x': 320.0, 'y': 181.0, 'width': 640.0, 'height': 358.0, 'confidence': 0.6283406019210815, 'class': 'engaged', 'image_path': '/content/videos_to_infer/0043.png', 'prediction_type': 'ObjectDetectionModel'}]\n",
            "[]\n",
            "[{'x': 320.0, 'y': 180.0, 'width': 640.0, 'height': 360.0, 'confidence': 0.6526032090187073, 'class': 'engaged', 'image_path': '/content/videos_to_infer/0012.png', 'prediction_type': 'ObjectDetectionModel'}]\n",
            "[{'x': 320.5, 'y': 179.5, 'width': 639.0, 'height': 359.0, 'confidence': 0.9612306356430054, 'class': 'engaged', 'image_path': '/content/videos_to_infer/0010.png', 'prediction_type': 'ObjectDetectionModel'}]\n"
          ]
        }
      ],
      "source": [
        "# glob config values\n",
        "!pwd\n",
        "file_path = \"/content/videos_to_infer\"\n",
        "extension = \".png\"\n",
        "res =[]\n",
        "for path in os.listdir(file_path):\n",
        "    #check if current path is a file\n",
        "    if os.path.isfile(os.path.join(file_path, path)):\n",
        "        res.append(os.path.join(file_path, path))\n",
        "print(res)\n",
        "# glob files based on location and file format\n",
        "globbed_files = sorted(glob.glob(file_path + '*' + extension))\n",
        "print(globbed_files)\n",
        "\n",
        "for image in res:\n",
        "  # INFERENCE\n",
        "  predictions = model.predict(image).json()['predictions']\n",
        "  newly_rendered_image = Image.open(image)\n",
        "\n",
        "  # RENDER\n",
        "  # for each detection, create a crop and convert into CLIP encoding\n",
        "  print(predictions)\n",
        "  for prediction in predictions:\n",
        "      # rip bounding box coordinates from current detection\n",
        "      # note: infer returns center points of box as (x,y) and width, height\n",
        "      # ----- but pillow crop requires the top left and bottom right points to crop\n",
        "      x0 = prediction['x'] - prediction['width'] / 2\n",
        "      x1 = prediction['x'] + prediction['width'] / 2\n",
        "      y0 = prediction['y'] - prediction['height'] / 2\n",
        "      y1 = prediction['y'] + prediction['height'] / 2\n",
        "      box = (x0, y0, x1, y1)\n",
        "\n",
        "      newly_rendered_image = draw_boxes(box, x0, y0, newly_rendered_image, prediction['class'])\n",
        "\n",
        "  # WRITE\n",
        "  save_with_bbox_renders(newly_rendered_image)"
      ]
    },
    {
      "cell_type": "code",
      "execution_count": 46,
      "metadata": {
        "colab": {
          "base_uri": "https://localhost:8080/"
        },
        "id": "gZ5UgMBeJfVF",
        "outputId": "02d844bb-f667-4916-c2b3-cd2ce47fdc00"
      },
      "outputs": [
        {
          "output_type": "stream",
          "name": "stdout",
          "text": [
            "/\n",
            "ffmpeg version 4.2.7-0ubuntu0.1 Copyright (c) 2000-2022 the FFmpeg developers\n",
            "  built with gcc 9 (Ubuntu 9.4.0-1ubuntu1~20.04.1)\n",
            "  configuration: --prefix=/usr --extra-version=0ubuntu0.1 --toolchain=hardened --libdir=/usr/lib/x86_64-linux-gnu --incdir=/usr/include/x86_64-linux-gnu --arch=amd64 --enable-gpl --disable-stripping --enable-avresample --disable-filter=resample --enable-avisynth --enable-gnutls --enable-ladspa --enable-libaom --enable-libass --enable-libbluray --enable-libbs2b --enable-libcaca --enable-libcdio --enable-libcodec2 --enable-libflite --enable-libfontconfig --enable-libfreetype --enable-libfribidi --enable-libgme --enable-libgsm --enable-libjack --enable-libmp3lame --enable-libmysofa --enable-libopenjpeg --enable-libopenmpt --enable-libopus --enable-libpulse --enable-librsvg --enable-librubberband --enable-libshine --enable-libsnappy --enable-libsoxr --enable-libspeex --enable-libssh --enable-libtheora --enable-libtwolame --enable-libvidstab --enable-libvorbis --enable-libvpx --enable-libwavpack --enable-libwebp --enable-libx265 --enable-libxml2 --enable-libxvid --enable-libzmq --enable-libzvbi --enable-lv2 --enable-omx --enable-openal --enable-opencl --enable-opengl --enable-sdl2 --enable-libdc1394 --enable-libdrm --enable-libiec61883 --enable-nvenc --enable-chromaprint --enable-frei0r --enable-libx264 --enable-shared\n",
            "  libavutil      56. 31.100 / 56. 31.100\n",
            "  libavcodec     58. 54.100 / 58. 54.100\n",
            "  libavformat    58. 29.100 / 58. 29.100\n",
            "  libavdevice    58.  8.100 / 58.  8.100\n",
            "  libavfilter     7. 57.100 /  7. 57.100\n",
            "  libavresample   4.  0.  0 /  4.  0.  0\n",
            "  libswscale      5.  5.100 /  5.  5.100\n",
            "  libswresample   3.  5.100 /  3.  5.100\n",
            "  libpostproc    55.  5.100 / 55.  5.100\n",
            "Input #0, image2, from '/content/inferred_videos/%04d.png':\n",
            "  Duration: 00:00:05.04, start: 0.000000, bitrate: N/A\n",
            "    Stream #0:0: Video: png, rgb24(pc), 640x360, 25 fps, 25 tbr, 25 tbn, 25 tbc\n",
            "Stream mapping:\n",
            "  Stream #0:0 -> #0:0 (png (native) -> h264 (libx264))\n",
            "Press [q] to stop, [?] for help\n",
            "\u001b[1;36m[libx264 @ 0x560751fedc00] \u001b[0musing cpu capabilities: MMX2 SSE2Fast SSSE3 SSE4.2 AVX FMA3 BMI2 AVX2\n",
            "\u001b[1;36m[libx264 @ 0x560751fedc00] \u001b[0mprofile High, level 2.2\n",
            "\u001b[1;36m[libx264 @ 0x560751fedc00] \u001b[0m264 - core 155 r2917 0a84d98 - H.264/MPEG-4 AVC codec - Copyleft 2003-2018 - http://www.videolan.org/x264.html - options: cabac=1 ref=3 deblock=1:0:0 analyse=0x3:0x113 me=hex subme=7 psy=1 psy_rd=1.00:0.00 mixed_ref=1 me_range=16 chroma_me=1 trellis=1 8x8dct=1 cqm=0 deadzone=21,11 fast_pskip=1 chroma_qp_offset=-2 threads=3 lookahead_threads=1 sliced_threads=0 nr=0 decimate=1 interlaced=0 bluray_compat=0 constrained_intra=0 bframes=3 b_pyramid=2 b_adapt=1 b_bias=0 direct=1 weightb=1 open_gop=0 weightp=2 keyint=250 keyint_min=8 scenecut=40 intra_refresh=0 rc_lookahead=40 rc=crf mbtree=1 crf=25.0 qcomp=0.60 qpmin=0 qpmax=69 qpstep=4 ip_ratio=1.40 aq=1:1.00\n",
            "Output #0, mp4, to 'Classroom_video.mp4':\n",
            "  Metadata:\n",
            "    encoder         : Lavf58.29.100\n",
            "    Stream #0:0: Video: h264 (libx264) (avc1 / 0x31637661), yuv420p, 640x360, q=-1--1, 8 fps, 16384 tbn, 8 tbc\n",
            "    Metadata:\n",
            "      encoder         : Lavc58.54.100 libx264\n",
            "    Side data:\n",
            "      cpb: bitrate max/min/avg: 0/0/0 buffer size: 0 vbv_delay: -1\n",
            "frame=  126 fps= 35 q=-1.0 Lsize=     928kB time=00:00:15.37 bitrate= 494.2kbits/s speed=4.24x    \n",
            "video:925kB audio:0kB subtitle:0kB other streams:0kB global headers:0kB muxing overhead: 0.230791%\n",
            "\u001b[1;36m[libx264 @ 0x560751fedc00] \u001b[0mframe I:1     Avg QP:25.66  size: 18281\n",
            "\u001b[1;36m[libx264 @ 0x560751fedc00] \u001b[0mframe P:58    Avg QP:25.11  size: 10514\n",
            "\u001b[1;36m[libx264 @ 0x560751fedc00] \u001b[0mframe B:67    Avg QP:27.38  size:  4759\n",
            "\u001b[1;36m[libx264 @ 0x560751fedc00] \u001b[0mconsecutive B-frames: 19.8% 23.8% 11.9% 44.4%\n",
            "\u001b[1;36m[libx264 @ 0x560751fedc00] \u001b[0mmb I  I16..4: 11.8% 52.6% 35.5%\n",
            "\u001b[1;36m[libx264 @ 0x560751fedc00] \u001b[0mmb P  I16..4:  3.3% 12.3% 10.5%  P16..4: 34.2% 19.9% 10.0%  0.0%  0.0%    skip: 9.8%\n",
            "\u001b[1;36m[libx264 @ 0x560751fedc00] \u001b[0mmb B  I16..4:  1.1%  1.7%  2.3%  B16..8: 40.7% 15.1%  4.9%  direct: 3.1%  skip:31.1%  L0:42.1% L1:48.1% BI: 9.8%\n",
            "\u001b[1;36m[libx264 @ 0x560751fedc00] \u001b[0m8x8 transform intra:44.9% inter:61.7%\n",
            "\u001b[1;36m[libx264 @ 0x560751fedc00] \u001b[0mcoded y,uvDC,uvAC intra: 73.8% 76.1% 48.3% inter: 27.9% 27.3% 4.7%\n",
            "\u001b[1;36m[libx264 @ 0x560751fedc00] \u001b[0mi16 v,h,dc,p: 25% 56%  5% 15%\n",
            "\u001b[1;36m[libx264 @ 0x560751fedc00] \u001b[0mi8 v,h,dc,ddl,ddr,vr,hd,vl,hu: 22% 19% 12%  5%  7% 10%  8%  8%  8%\n",
            "\u001b[1;36m[libx264 @ 0x560751fedc00] \u001b[0mi4 v,h,dc,ddl,ddr,vr,hd,vl,hu: 23% 28% 12%  5%  7%  8%  7%  6%  5%\n",
            "\u001b[1;36m[libx264 @ 0x560751fedc00] \u001b[0mi8c dc,h,v,p: 35% 34% 27%  5%\n",
            "\u001b[1;36m[libx264 @ 0x560751fedc00] \u001b[0mWeighted P-Frames: Y:0.0% UV:0.0%\n",
            "\u001b[1;36m[libx264 @ 0x560751fedc00] \u001b[0mref P L0: 61.6% 27.1%  6.7%  4.7%\n",
            "\u001b[1;36m[libx264 @ 0x560751fedc00] \u001b[0mref B L0: 92.2%  6.3%  1.5%\n",
            "\u001b[1;36m[libx264 @ 0x560751fedc00] \u001b[0mref B L1: 98.3%  1.7%\n",
            "\u001b[1;36m[libx264 @ 0x560751fedc00] \u001b[0mkb/s:480.98\n"
          ]
        }
      ],
      "source": [
        "# stich images together into video\n",
        "#frames = 8 however, the cells above, i used 5\n",
        "#/content/drive/MyDrive/Classroom_video.mp40001.png\n",
        "!pwd\n",
        "!ffmpeg -r 8 -s 1920x1080 -i /content/inferred_videos/%04d.png -vcodec libx264 -crf 25  -pix_fmt yuv420p Classroom_video.mp4"
      ]
    },
    {
      "cell_type": "code",
      "execution_count": null,
      "metadata": {
        "colab": {
          "background_save": true
        },
        "id": "zhHHyb7R8_lR"
      },
      "outputs": [],
      "source": []
    }
  ],
  "metadata": {
    "colab": {
      "provenance": [],
      "include_colab_link": true
    },
    "kernelspec": {
      "display_name": "Python 3",
      "name": "python3"
    },
    "language_info": {
      "name": "python"
    }
  },
  "nbformat": 4,
  "nbformat_minor": 0
}